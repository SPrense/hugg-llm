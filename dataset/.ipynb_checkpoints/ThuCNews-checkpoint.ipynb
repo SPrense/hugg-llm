{
 "cells": [
  {
   "cell_type": "code",
   "execution_count": null,
   "id": "6b59609d",
   "metadata": {},
   "outputs": [],
   "source": [
    "import pandas as pd\n",
    "from torch.utils.data import Dataset\n",
    "\n",
    "class ThuCNewsdataset(Dataset):\n",
    "    def __init__(\n",
    "        self,\n",
    "        data_path,\n",
    "        \n",
    "    ):\n",
    "        self.data_path = data_path\n",
    "        self._get_data()\n",
    "        \n",
    "    def _get_data(self):\n",
    "        with open(self.data_path,'r',encoding='utf-8') as f:\n",
    "            data = f.readlines()\n",
    "        split_data = []\n",
    "        for item in data:\n",
    "            split_item = item.split('\\t')\n",
    "            split_data.append(split_item)\n",
    "        data_split = pd.DataFrame(split_data,columns=('category','content'))\n",
    "        categories = data_split['category'].unique()\n",
    "        category_to_code = {category: code for code, category in enumerate(categories)}\n",
    "        data_split['category'] = data_split['category'].map(category_to_code)\n",
    "        self.data = data_split\n",
    "        \n",
    "    def __len__(self):\n",
    "        return len(self.data)\n",
    "    \n",
    "    def __getitem__(self, idx):\n",
    "        return self.data.loc[idx,'category'], self.data.loc[idx,'content']\n",
    "        "
   ]
  }
 ],
 "metadata": {
  "kernelspec": {
   "display_name": "Python 3 (ipykernel)",
   "language": "python",
   "name": "python3"
  },
  "language_info": {
   "codemirror_mode": {
    "name": "ipython",
    "version": 3
   },
   "file_extension": ".py",
   "mimetype": "text/x-python",
   "name": "python",
   "nbconvert_exporter": "python",
   "pygments_lexer": "ipython3",
   "version": "3.8.18"
  },
  "toc": {
   "base_numbering": 1,
   "nav_menu": {},
   "number_sections": true,
   "sideBar": true,
   "skip_h1_title": false,
   "title_cell": "Table of Contents",
   "title_sidebar": "Contents",
   "toc_cell": false,
   "toc_position": {},
   "toc_section_display": true,
   "toc_window_display": false
  }
 },
 "nbformat": 4,
 "nbformat_minor": 5
}
