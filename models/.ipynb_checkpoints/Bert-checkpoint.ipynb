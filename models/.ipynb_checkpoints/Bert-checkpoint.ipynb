{
 "cells": [
  {
   "cell_type": "code",
   "execution_count": 1,
   "id": "5afc49f9",
   "metadata": {
    "ExecuteTime": {
     "end_time": "2024-04-08T06:30:52.906311Z",
     "start_time": "2024-04-08T06:30:52.767538Z"
    }
   },
   "outputs": [],
   "source": [
    "import torch.nn as torch\n",
    "from transformers import BertModel\n",
    "from .MutiCls import MutiCls"
   ]
  },
  {
   "cell_type": "code",
   "execution_count": null,
   "id": "3840f54d",
   "metadata": {},
   "outputs": [],
   "source": [
    "class BertCLS(nn.model):\n",
    "    def __init__(\n",
    "        self,\n",
    "        check_point_name,\n",
    "        n_labels,\n",
    "        freeze_pooler = True,\n",
    "    ):\n",
    "        super().__init__()\n",
    "        self.n_labels = n_labels\n",
    "        self.Bert = BertModel.from_pretrained(check_point_name)\n",
    "        self.Cls = MutiCls(\n",
    "            input_size = input_size,\n",
    "            n_labels = n_labels\n",
    "        )\n",
    "        \n",
    "        for param in self.Bert.parameters():\n",
    "            param.requires_grad = False\n",
    "\n",
    "        if not freeze_pooler:\n",
    "            for param in self.bert.pooler.parameters():\n",
    "                param.requires_grad = True\n",
    "        \n",
    "    def foward(self, input_ids, attention_mask, token_type_ids):\n",
    "        output = self.Bert(\n",
    "            input_ids = input_ids,\n",
    "            attention_mask = attention_mask,\n",
    "            token_type_ids = token_type_ids\n",
    "        )\n",
    "        x = output.pooler_output  #自带的pooler\n",
    "        x = self.Cls(x)\n",
    "        \n",
    "        return x\n",
    "        \n",
    "        "
   ]
  }
 ],
 "metadata": {
  "kernelspec": {
   "display_name": "Python 3 (ipykernel)",
   "language": "python",
   "name": "python3"
  },
  "language_info": {
   "codemirror_mode": {
    "name": "ipython",
    "version": 3
   },
   "file_extension": ".py",
   "mimetype": "text/x-python",
   "name": "python",
   "nbconvert_exporter": "python",
   "pygments_lexer": "ipython3",
   "version": "3.8.18"
  },
  "toc": {
   "base_numbering": 1,
   "nav_menu": {},
   "number_sections": true,
   "sideBar": true,
   "skip_h1_title": false,
   "title_cell": "Table of Contents",
   "title_sidebar": "Contents",
   "toc_cell": false,
   "toc_position": {},
   "toc_section_display": true,
   "toc_window_display": false
  }
 },
 "nbformat": 4,
 "nbformat_minor": 5
}
